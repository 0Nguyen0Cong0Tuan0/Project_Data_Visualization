{
 "cells": [
  {
   "cell_type": "code",
   "execution_count": null,
   "metadata": {},
   "outputs": [],
   "source": [
    "# !pip install countryinfo geopy pandas requests"
   ]
  },
  {
   "cell_type": "code",
   "execution_count": 2,
   "metadata": {},
   "outputs": [],
   "source": [
    "import time\n",
    "from countryinfo import CountryInfo\n",
    "import pandas as pd\n",
    "import numpy as np\n",
    "from geopy.geocoders import Nominatim\n",
    "from tqdm import tqdm \n",
    "\n",
    "import requests\n",
    "import json\n",
    "import csv\n",
    "from datetime import datetime\n",
    "\n",
    "import glob"
   ]
  },
  {
   "cell_type": "code",
   "execution_count": null,
   "metadata": {},
   "outputs": [],
   "source": [
    "# geolocator = Nominatim(user_agent=\"vietnam_locations_app\")\n",
    "\n",
    "# def get_lat_lon(place):\n",
    "#     \"\"\"Fetch latitude and longitude for a given place.\"\"\"\n",
    "#     try:\n",
    "#         location = geolocator.geocode(place, timeout=10)\n",
    "#         if location:\n",
    "#             return location.latitude, location.longitude\n",
    "#         else:\n",
    "#             return None, None\n",
    "#     except Exception as e:\n",
    "#         print(f\"Error geocoding {place}: {e}\")\n",
    "#         return None, None\n",
    "\n",
    "# def gather_vietnam_data():\n",
    "#     \"\"\"Collect latitude and longitude for all provinces in Vietnam.\"\"\"\n",
    "#     data = []\n",
    "    \n",
    "#     try:\n",
    "#         vietnam = CountryInfo(\"Vietnam\")\n",
    "#         provinces = vietnam.provinces() if hasattr(vietnam, \"provinces\") else [\"Vietnam\"]\n",
    "\n",
    "#         for province in tqdm(provinces, desc=\"Processing provinces\"):\n",
    "#             province_query = f\"{province}, Vietnam\"\n",
    "#             prov_lat, prov_lon = get_lat_lon(province_query)\n",
    "\n",
    "#             data.append({\n",
    "#                 \"Country\": \"Vietnam\",\n",
    "#                 \"State/Province\": province,\n",
    "#                 \"Latitude\": prov_lat,\n",
    "#                 \"Longitude\": prov_lon\n",
    "#             })\n",
    "\n",
    "#             time.sleep(1)  # Prevents rate limiting\n",
    "\n",
    "#     except Exception as e:\n",
    "#         print(f\"Error processing Vietnam: {e}\")\n",
    "\n",
    "#     return data\n",
    "\n",
    "\n",
    "# print(\"Gathering Vietnam location data...\")\n",
    "# vietnam_data = gather_vietnam_data()\n",
    "\n",
    "# df = pd.DataFrame(vietnam_data)\n",
    "\n",
    "# df = df.dropna(subset=['Latitude', 'Longitude'], how='all')\n",
    "\n",
    "# num_parts = 5\n",
    "# split_dfs = np.array_split(df, num_parts)\n",
    "\n",
    "# for i, part_df in enumerate(split_dfs, start=1):\n",
    "#     output_file = f\"vietnam_locations_part_{i}.csv\"\n",
    "#     part_df.to_csv(output_file, index=False)\n",
    "#     print(f\"Saved {len(part_df)} entries to {output_file}\")\n",
    "\n",
    "# print(f\"Total entries: {len(df)} (split into {num_parts} parts)\")\n"
   ]
  },
  {
   "cell_type": "code",
   "execution_count": 3,
   "metadata": {},
   "outputs": [
    {
     "name": "stdout",
     "output_type": "stream",
     "text": [
      "\n",
      "Processing file: vietnam_locations_part_1.csv\n"
     ]
    },
    {
     "name": "stderr",
     "output_type": "stream",
     "text": [
      "Fetching Weather Data (Part 1):   0%|          | 0/13 [00:00<?, ?it/s]"
     ]
    },
    {
     "name": "stdout",
     "output_type": "stream",
     "text": [
      "Fetching data for An Giang...\n"
     ]
    },
    {
     "name": "stderr",
     "output_type": "stream",
     "text": [
      "Fetching Weather Data (Part 1):   8%|▊         | 1/13 [00:03<00:40,  3.37s/it]"
     ]
    },
    {
     "name": "stdout",
     "output_type": "stream",
     "text": [
      "Fetching data for Ba Ria-Vung Tau...\n"
     ]
    },
    {
     "name": "stderr",
     "output_type": "stream",
     "text": [
      "Fetching Weather Data (Part 1):  15%|█▌        | 2/13 [00:06<00:32,  2.97s/it]"
     ]
    },
    {
     "name": "stdout",
     "output_type": "stream",
     "text": [
      "Fetching data for Bac Giang...\n"
     ]
    },
    {
     "name": "stderr",
     "output_type": "stream",
     "text": [
      "Fetching Weather Data (Part 1):  23%|██▎       | 3/13 [00:08<00:29,  2.93s/it]"
     ]
    },
    {
     "name": "stdout",
     "output_type": "stream",
     "text": [
      "Fetching data for Bac Kan...\n"
     ]
    },
    {
     "name": "stderr",
     "output_type": "stream",
     "text": [
      "Fetching Weather Data (Part 1):  31%|███       | 4/13 [00:11<00:25,  2.88s/it]"
     ]
    },
    {
     "name": "stdout",
     "output_type": "stream",
     "text": [
      "Fetching data for Bac Lieu...\n"
     ]
    },
    {
     "name": "stderr",
     "output_type": "stream",
     "text": [
      "Fetching Weather Data (Part 1):  38%|███▊      | 5/13 [00:14<00:23,  2.91s/it]"
     ]
    },
    {
     "name": "stdout",
     "output_type": "stream",
     "text": [
      "Fetching data for Bac Ninh...\n"
     ]
    },
    {
     "name": "stderr",
     "output_type": "stream",
     "text": [
      "Fetching Weather Data (Part 1):  46%|████▌     | 6/13 [00:17<00:20,  2.91s/it]"
     ]
    },
    {
     "name": "stdout",
     "output_type": "stream",
     "text": [
      "Fetching data for Ben Tre...\n"
     ]
    },
    {
     "name": "stderr",
     "output_type": "stream",
     "text": [
      "Fetching Weather Data (Part 1):  54%|█████▍    | 7/13 [00:20<00:16,  2.83s/it]"
     ]
    },
    {
     "name": "stdout",
     "output_type": "stream",
     "text": [
      "Fetching data for Binh Dinh...\n"
     ]
    },
    {
     "name": "stderr",
     "output_type": "stream",
     "text": [
      "Fetching Weather Data (Part 1):  62%|██████▏   | 8/13 [00:23<00:14,  2.97s/it]"
     ]
    },
    {
     "name": "stdout",
     "output_type": "stream",
     "text": [
      "Fetching data for Binh Duong...\n"
     ]
    },
    {
     "name": "stderr",
     "output_type": "stream",
     "text": [
      "Fetching Weather Data (Part 1):  69%|██████▉   | 9/13 [00:26<00:12,  3.01s/it]"
     ]
    },
    {
     "name": "stdout",
     "output_type": "stream",
     "text": [
      "Fetching data for Binh Phuoc...\n"
     ]
    },
    {
     "name": "stderr",
     "output_type": "stream",
     "text": [
      "Fetching Weather Data (Part 1):  77%|███████▋  | 10/13 [00:29<00:09,  3.05s/it]"
     ]
    },
    {
     "name": "stdout",
     "output_type": "stream",
     "text": [
      "Fetching data for Binh Thuan...\n"
     ]
    },
    {
     "name": "stderr",
     "output_type": "stream",
     "text": [
      "Fetching Weather Data (Part 1):  85%|████████▍ | 11/13 [00:33<00:06,  3.19s/it]"
     ]
    },
    {
     "name": "stdout",
     "output_type": "stream",
     "text": [
      "Fetching data for Ca Mau...\n"
     ]
    },
    {
     "name": "stderr",
     "output_type": "stream",
     "text": [
      "Fetching Weather Data (Part 1):  92%|█████████▏| 12/13 [00:36<00:03,  3.15s/it]"
     ]
    },
    {
     "name": "stdout",
     "output_type": "stream",
     "text": [
      "Fetching data for Can Tho...\n"
     ]
    },
    {
     "name": "stderr",
     "output_type": "stream",
     "text": [
      "Fetching Weather Data (Part 1): 100%|██████████| 13/13 [00:39<00:00,  3.01s/it]\n"
     ]
    },
    {
     "name": "stdout",
     "output_type": "stream",
     "text": [
      "Historical weather data saved to vietnam_historical_weather_part_1.csv\n",
      "\n",
      "Processing file: vietnam_locations_part_2.csv\n"
     ]
    },
    {
     "name": "stderr",
     "output_type": "stream",
     "text": [
      "Fetching Weather Data (Part 2):   0%|          | 0/12 [00:00<?, ?it/s]"
     ]
    },
    {
     "name": "stdout",
     "output_type": "stream",
     "text": [
      "Fetching data for Cao Bang...\n"
     ]
    },
    {
     "name": "stderr",
     "output_type": "stream",
     "text": [
      "Fetching Weather Data (Part 2):   8%|▊         | 1/12 [00:03<00:35,  3.24s/it]"
     ]
    },
    {
     "name": "stdout",
     "output_type": "stream",
     "text": [
      "Fetching data for Da Nang...\n"
     ]
    },
    {
     "name": "stderr",
     "output_type": "stream",
     "text": [
      "Fetching Weather Data (Part 2):  17%|█▋        | 2/12 [00:07<00:36,  3.62s/it]"
     ]
    },
    {
     "name": "stdout",
     "output_type": "stream",
     "text": [
      "Fetching data for Dac Lak...\n"
     ]
    },
    {
     "name": "stderr",
     "output_type": "stream",
     "text": [
      "Fetching Weather Data (Part 2):  25%|██▌       | 3/12 [00:11<00:34,  3.83s/it]"
     ]
    },
    {
     "name": "stdout",
     "output_type": "stream",
     "text": [
      "Fetching data for Dong Nai...\n"
     ]
    },
    {
     "name": "stderr",
     "output_type": "stream",
     "text": [
      "Fetching Weather Data (Part 2):  33%|███▎      | 4/12 [00:13<00:27,  3.41s/it]"
     ]
    },
    {
     "name": "stdout",
     "output_type": "stream",
     "text": [
      "Fetching data for Dong Thap...\n",
      "Rate limit reached for Dong Thap. Retrying in 10 seconds...\n",
      "Rate limit reached for Dong Thap. Retrying in 20 seconds...\n"
     ]
    },
    {
     "name": "stderr",
     "output_type": "stream",
     "text": [
      "Fetching Weather Data (Part 2):  42%|████▏     | 5/12 [00:48<01:43, 14.78s/it]"
     ]
    },
    {
     "name": "stdout",
     "output_type": "stream",
     "text": [
      "Fetching data for Gia Lai...\n"
     ]
    },
    {
     "name": "stderr",
     "output_type": "stream",
     "text": [
      "Fetching Weather Data (Part 2):  50%|█████     | 6/12 [00:51<01:03, 10.65s/it]"
     ]
    },
    {
     "name": "stdout",
     "output_type": "stream",
     "text": [
      "Fetching data for Ha Giang...\n"
     ]
    },
    {
     "name": "stderr",
     "output_type": "stream",
     "text": [
      "Fetching Weather Data (Part 2):  58%|█████▊    | 7/12 [00:54<00:39,  7.99s/it]"
     ]
    },
    {
     "name": "stdout",
     "output_type": "stream",
     "text": [
      "Fetching data for Ha Nam...\n"
     ]
    },
    {
     "name": "stderr",
     "output_type": "stream",
     "text": [
      "Fetching Weather Data (Part 2):  67%|██████▋   | 8/12 [00:56<00:24,  6.24s/it]"
     ]
    },
    {
     "name": "stdout",
     "output_type": "stream",
     "text": [
      "Fetching data for Ha Noi...\n"
     ]
    },
    {
     "name": "stderr",
     "output_type": "stream",
     "text": [
      "Fetching Weather Data (Part 2):  75%|███████▌  | 9/12 [00:59<00:15,  5.07s/it]"
     ]
    },
    {
     "name": "stdout",
     "output_type": "stream",
     "text": [
      "Fetching data for Ha Tay...\n"
     ]
    },
    {
     "name": "stderr",
     "output_type": "stream",
     "text": [
      "Fetching Weather Data (Part 2):  83%|████████▎ | 10/12 [01:01<00:08,  4.33s/it]"
     ]
    },
    {
     "name": "stdout",
     "output_type": "stream",
     "text": [
      "Fetching data for Ha Tinh...\n"
     ]
    },
    {
     "name": "stderr",
     "output_type": "stream",
     "text": [
      "Fetching Weather Data (Part 2):  92%|█████████▏| 11/12 [01:04<00:03,  3.88s/it]"
     ]
    },
    {
     "name": "stdout",
     "output_type": "stream",
     "text": [
      "Fetching data for Hai Duong...\n"
     ]
    },
    {
     "name": "stderr",
     "output_type": "stream",
     "text": [
      "Fetching Weather Data (Part 2): 100%|██████████| 12/12 [01:07<00:00,  5.59s/it]\n"
     ]
    },
    {
     "name": "stdout",
     "output_type": "stream",
     "text": [
      "Historical weather data saved to vietnam_historical_weather_part_2.csv\n",
      "\n",
      "Processing file: vietnam_locations_part_3.csv\n"
     ]
    },
    {
     "name": "stderr",
     "output_type": "stream",
     "text": [
      "Fetching Weather Data (Part 3):   0%|          | 0/12 [00:00<?, ?it/s]"
     ]
    },
    {
     "name": "stdout",
     "output_type": "stream",
     "text": [
      "Fetching data for Hai Phong...\n"
     ]
    },
    {
     "name": "stderr",
     "output_type": "stream",
     "text": [
      "Fetching Weather Data (Part 3):   8%|▊         | 1/12 [00:02<00:27,  2.48s/it]"
     ]
    },
    {
     "name": "stdout",
     "output_type": "stream",
     "text": [
      "Fetching data for Ho Chi Minh...\n"
     ]
    },
    {
     "name": "stderr",
     "output_type": "stream",
     "text": [
      "Fetching Weather Data (Part 3):  17%|█▋        | 2/12 [00:05<00:25,  2.50s/it]"
     ]
    },
    {
     "name": "stdout",
     "output_type": "stream",
     "text": [
      "Fetching data for Hoa Binh...\n"
     ]
    },
    {
     "name": "stderr",
     "output_type": "stream",
     "text": [
      "Fetching Weather Data (Part 3):  25%|██▌       | 3/12 [00:07<00:23,  2.62s/it]"
     ]
    },
    {
     "name": "stdout",
     "output_type": "stream",
     "text": [
      "Fetching data for Hung Yen...\n",
      "Rate limit reached for Hung Yen. Retrying in 10 seconds...\n",
      "Rate limit reached for Hung Yen. Retrying in 20 seconds...\n"
     ]
    },
    {
     "name": "stderr",
     "output_type": "stream",
     "text": [
      "Fetching Weather Data (Part 3):  33%|███▎      | 4/12 [00:42<02:02, 15.27s/it]"
     ]
    },
    {
     "name": "stdout",
     "output_type": "stream",
     "text": [
      "Fetching data for Khanh Hoa...\n"
     ]
    },
    {
     "name": "stderr",
     "output_type": "stream",
     "text": [
      "Fetching Weather Data (Part 3):  42%|████▏     | 5/12 [00:44<01:13, 10.53s/it]"
     ]
    },
    {
     "name": "stdout",
     "output_type": "stream",
     "text": [
      "Fetching data for Kien Giang...\n"
     ]
    },
    {
     "name": "stderr",
     "output_type": "stream",
     "text": [
      "Fetching Weather Data (Part 3):  50%|█████     | 6/12 [00:46<00:46,  7.71s/it]"
     ]
    },
    {
     "name": "stdout",
     "output_type": "stream",
     "text": [
      "Fetching data for Kon Tum...\n"
     ]
    },
    {
     "name": "stderr",
     "output_type": "stream",
     "text": [
      "Fetching Weather Data (Part 3):  58%|█████▊    | 7/12 [00:48<00:29,  5.91s/it]"
     ]
    },
    {
     "name": "stdout",
     "output_type": "stream",
     "text": [
      "Fetching data for Lai Chau...\n"
     ]
    },
    {
     "name": "stderr",
     "output_type": "stream",
     "text": [
      "Fetching Weather Data (Part 3):  67%|██████▋   | 8/12 [00:52<00:19,  4.99s/it]"
     ]
    },
    {
     "name": "stdout",
     "output_type": "stream",
     "text": [
      "Fetching data for Lam Dong...\n"
     ]
    },
    {
     "name": "stderr",
     "output_type": "stream",
     "text": [
      "Fetching Weather Data (Part 3):  75%|███████▌  | 9/12 [00:54<00:12,  4.07s/it]"
     ]
    },
    {
     "name": "stdout",
     "output_type": "stream",
     "text": [
      "Fetching data for Lang Son...\n"
     ]
    },
    {
     "name": "stderr",
     "output_type": "stream",
     "text": [
      "Fetching Weather Data (Part 3):  83%|████████▎ | 10/12 [00:56<00:07,  3.54s/it]"
     ]
    },
    {
     "name": "stdout",
     "output_type": "stream",
     "text": [
      "Fetching data for Lao Cai...\n"
     ]
    },
    {
     "name": "stderr",
     "output_type": "stream",
     "text": [
      "Fetching Weather Data (Part 3):  92%|█████████▏| 11/12 [00:58<00:03,  3.08s/it]"
     ]
    },
    {
     "name": "stdout",
     "output_type": "stream",
     "text": [
      "Fetching data for Long An...\n"
     ]
    },
    {
     "name": "stderr",
     "output_type": "stream",
     "text": [
      "Fetching Weather Data (Part 3): 100%|██████████| 12/12 [01:00<00:00,  5.04s/it]\n"
     ]
    },
    {
     "name": "stdout",
     "output_type": "stream",
     "text": [
      "Historical weather data saved to vietnam_historical_weather_part_3.csv\n",
      "\n",
      "Processing file: vietnam_locations_part_4.csv\n"
     ]
    },
    {
     "name": "stderr",
     "output_type": "stream",
     "text": [
      "Fetching Weather Data (Part 4):   0%|          | 0/12 [00:00<?, ?it/s]"
     ]
    },
    {
     "name": "stdout",
     "output_type": "stream",
     "text": [
      "Fetching data for Nam Dinh...\n"
     ]
    },
    {
     "name": "stderr",
     "output_type": "stream",
     "text": [
      "Fetching Weather Data (Part 4):   8%|▊         | 1/12 [00:02<00:24,  2.20s/it]"
     ]
    },
    {
     "name": "stdout",
     "output_type": "stream",
     "text": [
      "Fetching data for Nghe An...\n"
     ]
    },
    {
     "name": "stderr",
     "output_type": "stream",
     "text": [
      "Fetching Weather Data (Part 4):  17%|█▋        | 2/12 [00:04<00:22,  2.23s/it]"
     ]
    },
    {
     "name": "stdout",
     "output_type": "stream",
     "text": [
      "Fetching data for Ninh Binh...\n",
      "Rate limit reached for Ninh Binh. Retrying in 10 seconds...\n",
      "Rate limit reached for Ninh Binh. Retrying in 20 seconds...\n"
     ]
    },
    {
     "name": "stderr",
     "output_type": "stream",
     "text": [
      "Fetching Weather Data (Part 4):  25%|██▌       | 3/12 [00:38<02:30, 16.70s/it]"
     ]
    },
    {
     "name": "stdout",
     "output_type": "stream",
     "text": [
      "Fetching data for Ninh Thuan...\n"
     ]
    },
    {
     "name": "stderr",
     "output_type": "stream",
     "text": [
      "Fetching Weather Data (Part 4):  33%|███▎      | 4/12 [00:40<01:27, 10.95s/it]"
     ]
    },
    {
     "name": "stdout",
     "output_type": "stream",
     "text": [
      "Fetching data for Phu Tho...\n"
     ]
    },
    {
     "name": "stderr",
     "output_type": "stream",
     "text": [
      "Fetching Weather Data (Part 4):  42%|████▏     | 5/12 [00:42<00:54,  7.82s/it]"
     ]
    },
    {
     "name": "stdout",
     "output_type": "stream",
     "text": [
      "Fetching data for Phu Yen...\n"
     ]
    },
    {
     "name": "stderr",
     "output_type": "stream",
     "text": [
      "Fetching Weather Data (Part 4):  50%|█████     | 6/12 [00:44<00:35,  5.86s/it]"
     ]
    },
    {
     "name": "stdout",
     "output_type": "stream",
     "text": [
      "Fetching data for Quang Binh...\n"
     ]
    },
    {
     "name": "stderr",
     "output_type": "stream",
     "text": [
      "Fetching Weather Data (Part 4):  58%|█████▊    | 7/12 [00:47<00:23,  4.70s/it]"
     ]
    },
    {
     "name": "stdout",
     "output_type": "stream",
     "text": [
      "Fetching data for Quang Nam...\n"
     ]
    },
    {
     "name": "stderr",
     "output_type": "stream",
     "text": [
      "Fetching Weather Data (Part 4):  67%|██████▋   | 8/12 [00:49<00:15,  3.93s/it]"
     ]
    },
    {
     "name": "stdout",
     "output_type": "stream",
     "text": [
      "Fetching data for Quang Ngai...\n"
     ]
    },
    {
     "name": "stderr",
     "output_type": "stream",
     "text": [
      "Fetching Weather Data (Part 4):  75%|███████▌  | 9/12 [00:51<00:10,  3.43s/it]"
     ]
    },
    {
     "name": "stdout",
     "output_type": "stream",
     "text": [
      "Fetching data for Quang Ninh...\n"
     ]
    },
    {
     "name": "stderr",
     "output_type": "stream",
     "text": [
      "Fetching Weather Data (Part 4):  83%|████████▎ | 10/12 [00:53<00:06,  3.00s/it]"
     ]
    },
    {
     "name": "stdout",
     "output_type": "stream",
     "text": [
      "Fetching data for Quang Tri...\n"
     ]
    },
    {
     "name": "stderr",
     "output_type": "stream",
     "text": [
      "Fetching Weather Data (Part 4):  92%|█████████▏| 11/12 [00:56<00:02,  2.76s/it]"
     ]
    },
    {
     "name": "stdout",
     "output_type": "stream",
     "text": [
      "Fetching data for Soc Trang...\n"
     ]
    },
    {
     "name": "stderr",
     "output_type": "stream",
     "text": [
      "Fetching Weather Data (Part 4): 100%|██████████| 12/12 [00:58<00:00,  4.86s/it]\n"
     ]
    },
    {
     "name": "stdout",
     "output_type": "stream",
     "text": [
      "Historical weather data saved to vietnam_historical_weather_part_4.csv\n",
      "\n",
      "Processing file: vietnam_locations_part_5.csv\n"
     ]
    },
    {
     "name": "stderr",
     "output_type": "stream",
     "text": [
      "Fetching Weather Data (Part 5):   0%|          | 0/12 [00:00<?, ?it/s]"
     ]
    },
    {
     "name": "stdout",
     "output_type": "stream",
     "text": [
      "Fetching data for Son La...\n"
     ]
    },
    {
     "name": "stderr",
     "output_type": "stream",
     "text": [
      "Fetching Weather Data (Part 5):   8%|▊         | 1/12 [00:02<00:22,  2.02s/it]"
     ]
    },
    {
     "name": "stdout",
     "output_type": "stream",
     "text": [
      "Fetching data for Tay Ninh...\n",
      "Rate limit reached for Tay Ninh. Retrying in 10 seconds...\n",
      "Rate limit reached for Tay Ninh. Retrying in 20 seconds...\n"
     ]
    },
    {
     "name": "stderr",
     "output_type": "stream",
     "text": [
      "Fetching Weather Data (Part 5):  17%|█▋        | 2/12 [00:37<03:34, 21.45s/it]"
     ]
    },
    {
     "name": "stdout",
     "output_type": "stream",
     "text": [
      "Fetching data for Thai Binh...\n"
     ]
    },
    {
     "name": "stderr",
     "output_type": "stream",
     "text": [
      "Fetching Weather Data (Part 5):  25%|██▌       | 3/12 [00:41<02:01, 13.52s/it]"
     ]
    },
    {
     "name": "stdout",
     "output_type": "stream",
     "text": [
      "Fetching data for Thai Nguyen...\n"
     ]
    },
    {
     "name": "stderr",
     "output_type": "stream",
     "text": [
      "Fetching Weather Data (Part 5):  33%|███▎      | 4/12 [00:45<01:19,  9.89s/it]"
     ]
    },
    {
     "name": "stdout",
     "output_type": "stream",
     "text": [
      "Fetching data for Thanh Hoa...\n"
     ]
    },
    {
     "name": "stderr",
     "output_type": "stream",
     "text": [
      "Fetching Weather Data (Part 5):  42%|████▏     | 5/12 [00:49<00:53,  7.62s/it]"
     ]
    },
    {
     "name": "stdout",
     "output_type": "stream",
     "text": [
      "Fetching data for Thua Thien-Hue...\n"
     ]
    },
    {
     "name": "stderr",
     "output_type": "stream",
     "text": [
      "Fetching Weather Data (Part 5):  50%|█████     | 6/12 [00:53<00:39,  6.53s/it]"
     ]
    },
    {
     "name": "stdout",
     "output_type": "stream",
     "text": [
      "Fetching data for Tien Giang...\n"
     ]
    },
    {
     "name": "stderr",
     "output_type": "stream",
     "text": [
      "Fetching Weather Data (Part 5):  58%|█████▊    | 7/12 [00:57<00:29,  5.86s/it]"
     ]
    },
    {
     "name": "stdout",
     "output_type": "stream",
     "text": [
      "Fetching data for Tra Vinh...\n"
     ]
    },
    {
     "name": "stderr",
     "output_type": "stream",
     "text": [
      "Fetching Weather Data (Part 5):  67%|██████▋   | 8/12 [01:01<00:20,  5.20s/it]"
     ]
    },
    {
     "name": "stdout",
     "output_type": "stream",
     "text": [
      "Fetching data for Tuyen Quang...\n"
     ]
    },
    {
     "name": "stderr",
     "output_type": "stream",
     "text": [
      "Fetching Weather Data (Part 5):  75%|███████▌  | 9/12 [01:05<00:14,  4.84s/it]"
     ]
    },
    {
     "name": "stdout",
     "output_type": "stream",
     "text": [
      "Fetching data for Vinh Long...\n"
     ]
    },
    {
     "name": "stderr",
     "output_type": "stream",
     "text": [
      "Fetching Weather Data (Part 5):  83%|████████▎ | 10/12 [01:11<00:10,  5.26s/it]"
     ]
    },
    {
     "name": "stdout",
     "output_type": "stream",
     "text": [
      "Fetching data for Vinh Phuc...\n"
     ]
    },
    {
     "name": "stderr",
     "output_type": "stream",
     "text": [
      "Fetching Weather Data (Part 5):  92%|█████████▏| 11/12 [01:17<00:05,  5.19s/it]"
     ]
    },
    {
     "name": "stdout",
     "output_type": "stream",
     "text": [
      "Fetching data for Yen Bai...\n"
     ]
    },
    {
     "name": "stderr",
     "output_type": "stream",
     "text": [
      "Fetching Weather Data (Part 5): 100%|██████████| 12/12 [01:20<00:00,  6.70s/it]"
     ]
    },
    {
     "name": "stdout",
     "output_type": "stream",
     "text": [
      "Historical weather data saved to vietnam_historical_weather_part_5.csv\n"
     ]
    },
    {
     "name": "stderr",
     "output_type": "stream",
     "text": [
      "\n"
     ]
    }
   ],
   "source": [
    "BASE_URL = \"https://archive-api.open-meteo.com/v1/archive\"\n",
    "\n",
    "start_year = 2019\n",
    "end_year = 2019\n",
    "\n",
    "location_files = [\n",
    "    \"vietnam_locations_part_1.csv\",\n",
    "    \"vietnam_locations_part_2.csv\",\n",
    "    \"vietnam_locations_part_3.csv\",\n",
    "    \"vietnam_locations_part_4.csv\",\n",
    "    \"vietnam_locations_part_5.csv\"\n",
    "]\n",
    "\n",
    "def get_historical_weather(province, lat, lon):\n",
    "    \"\"\"Fetch historical weather data for a given province with retry mechanism.\"\"\"\n",
    "    start_date = f\"{start_year}-01-01\"\n",
    "    end_date = f\"{end_year}-12-31\"\n",
    "\n",
    "    params = {\n",
    "        \"latitude\": lat,\n",
    "        \"longitude\": lon,\n",
    "        \"start_date\": start_date,\n",
    "        \"end_date\": end_date,\n",
    "        \"daily\": [\n",
    "            \"weathercode\", \"temperature_2m_max\", \"temperature_2m_min\",\n",
    "            \"apparent_temperature_max\", \"apparent_temperature_min\",\n",
    "            \"sunrise\", \"sunset\", \"daylight_duration\", \"sunshine_duration\",\n",
    "            \"uv_index_max\", \"uv_index_clear_sky_max\", \"precipitation_sum\",\n",
    "            \"rain_sum\", \"showers_sum\", \"snowfall_sum\", \"precipitation_hours\",\n",
    "            \"precipitation_probability_max\", \"windspeed_10m_max\",\n",
    "            \"windgusts_10m_max\", \"winddirection_10m_dominant\",\n",
    "            \"shortwave_radiation_sum\", \"et0_fao_evapotranspiration\"\n",
    "        ],\n",
    "        \"timezone\": \"auto\"\n",
    "    }\n",
    "\n",
    "    retries = 5 \n",
    "    wait_time = 10  \n",
    "\n",
    "    for _ in range(retries):\n",
    "        response = requests.get(BASE_URL, params=params)\n",
    "\n",
    "        if response.status_code == 200:\n",
    "            return response.json()\n",
    "        elif response.status_code == 429:\n",
    "            print(f\"Rate limit reached for {province}. Retrying in {wait_time} seconds...\")\n",
    "            time.sleep(wait_time)\n",
    "            wait_time *= 2  \n",
    "        else:\n",
    "            print(f\"Error fetching data for {province}: {response.status_code}\")\n",
    "            return None\n",
    "\n",
    "    print(f\"Skipping {province} after {retries} failed attempts.\")\n",
    "    return None\n",
    "\n",
    "for file_num, location_file in enumerate(location_files, start=1):\n",
    "    print(f\"\\nProcessing file: {location_file}\")\n",
    "    province_data = pd.read_csv(location_file)\n",
    "    \n",
    "    weather_history = []\n",
    "    \n",
    "    for _, row in tqdm(province_data.iterrows(), total=len(province_data), desc=f\"Fetching Weather Data (Part {file_num})\"):\n",
    "        province = row[\"State/Province\"]\n",
    "        lat, lon = row[\"Latitude\"], row[\"Longitude\"]\n",
    "\n",
    "        print(f\"Fetching data for {province}...\")\n",
    "        data = get_historical_weather(province, lat, lon)\n",
    "\n",
    "        if data and \"daily\" in data:\n",
    "            daily_data = data[\"daily\"]\n",
    "            dates = daily_data[\"time\"]\n",
    "\n",
    "            for i in range(len(dates)): \n",
    "                weather_history.append([\n",
    "                    province,\n",
    "                    dates[i],\n",
    "                    daily_data[\"weathercode\"][i],\n",
    "                    daily_data[\"temperature_2m_max\"][i],\n",
    "                    daily_data[\"temperature_2m_min\"][i],\n",
    "                    daily_data[\"apparent_temperature_max\"][i],\n",
    "                    daily_data[\"apparent_temperature_min\"][i],\n",
    "                    daily_data[\"sunrise\"][i],\n",
    "                    daily_data[\"sunset\"][i],\n",
    "                    daily_data[\"daylight_duration\"][i],\n",
    "                    daily_data[\"sunshine_duration\"][i],\n",
    "                    daily_data[\"uv_index_max\"][i],\n",
    "                    daily_data[\"uv_index_clear_sky_max\"][i],\n",
    "                    daily_data[\"precipitation_sum\"][i],\n",
    "                    daily_data[\"rain_sum\"][i],\n",
    "                    daily_data[\"showers_sum\"][i],\n",
    "                    daily_data[\"snowfall_sum\"][i],\n",
    "                    daily_data[\"precipitation_hours\"][i],\n",
    "                    daily_data[\"precipitation_probability_max\"][i],\n",
    "                    daily_data[\"windspeed_10m_max\"][i],\n",
    "                    daily_data[\"windgusts_10m_max\"][i],\n",
    "                    daily_data[\"winddirection_10m_dominant\"][i],\n",
    "                    daily_data[\"shortwave_radiation_sum\"][i],\n",
    "                    daily_data[\"et0_fao_evapotranspiration\"][i]\n",
    "                ])\n",
    "\n",
    "        time.sleep(1) \n",
    "\n",
    "    csv_filename = f\"vietnam_historical_weather_part_{file_num}.csv\"\n",
    "    with open(csv_filename, \"w\", newline=\"\") as csvfile:\n",
    "        writer = csv.writer(csvfile)\n",
    "        writer.writerow([\n",
    "            \"Province\", \"Date\", \"Weather Code\", \"Max Temp (°C)\", \"Min Temp (°C)\", \n",
    "            \"Max Apparent Temp (°C)\", \"Min Apparent Temp (°C)\", \"Sunrise\", \"Sunset\",\n",
    "            \"Daylight Duration (s)\", \"Sunshine Duration (s)\", \"UV Index Max\", \n",
    "            \"UV Index Clear Sky Max\", \"Precipitation (mm)\", \"Rain (mm)\", \n",
    "            \"Showers (mm)\", \"Snowfall (mm)\", \"Precipitation Hours\", \n",
    "            \"Precipitation Probability Max (%)\", \"Max Wind Speed (m/s)\", \n",
    "            \"Max Wind Gusts (m/s)\", \"Dominant Wind Direction (°)\", \n",
    "            \"Shortwave Radiation Sum (MJ/m²)\", \"Reference Evapotranspiration (mm)\"\n",
    "        ])\n",
    "        writer.writerows(weather_history)\n",
    "\n",
    "    print(f\"Historical weather data saved to {csv_filename}\")"
   ]
  },
  {
   "cell_type": "code",
   "execution_count": 4,
   "metadata": {},
   "outputs": [],
   "source": [
    "csv_files = glob.glob(\"vietnam_historical_weather_part_*.csv\")\n",
    "\n",
    "merged_df = pd.concat([pd.read_csv(file) for file in csv_files], ignore_index=True)\n",
    "\n",
    "merged_filename = \"vn_weather_2019.csv\"\n",
    "merged_df.to_csv(merged_filename, index=False)"
   ]
  }
 ],
 "metadata": {
  "kernelspec": {
   "display_name": "venv",
   "language": "python",
   "name": "python3"
  },
  "language_info": {
   "codemirror_mode": {
    "name": "ipython",
    "version": 3
   },
   "file_extension": ".py",
   "mimetype": "text/x-python",
   "name": "python",
   "nbconvert_exporter": "python",
   "pygments_lexer": "ipython3",
   "version": "3.12.3"
  }
 },
 "nbformat": 4,
 "nbformat_minor": 2
}
