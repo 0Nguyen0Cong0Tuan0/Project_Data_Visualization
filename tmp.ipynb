{
 "cells": [
  {
   "cell_type": "code",
   "execution_count": null,
   "metadata": {},
   "outputs": [],
   "source": [
    "# !pip install countryinfo geopy pandas requests"
   ]
  },
  {
   "cell_type": "code",
   "execution_count": 1,
   "metadata": {},
   "outputs": [],
   "source": [
    "import time\n",
    "from countryinfo import CountryInfo\n",
    "import pandas as pd\n",
    "import numpy as np\n",
    "from geopy.geocoders import Nominatim\n",
    "from tqdm import tqdm \n",
    "\n",
    "import requests\n",
    "import json\n",
    "import csv\n",
    "from datetime import datetime\n",
    "\n",
    "import glob"
   ]
  },
  {
   "cell_type": "code",
   "execution_count": 2,
   "metadata": {},
   "outputs": [],
   "source": [
    "# geolocator = Nominatim(user_agent=\"vietnam_locations_app\")\n",
    "\n",
    "# def get_lat_lon(place):\n",
    "#     \"\"\"Fetch latitude and longitude for a given place.\"\"\"\n",
    "#     try:\n",
    "#         location = geolocator.geocode(place, timeout=10)\n",
    "#         if location:\n",
    "#             return location.latitude, location.longitude\n",
    "#         else:\n",
    "#             return None, None\n",
    "#     except Exception as e:\n",
    "#         print(f\"Error geocoding {place}: {e}\")\n",
    "#         return None, None\n",
    "\n",
    "# def gather_vietnam_data():\n",
    "#     \"\"\"Collect latitude and longitude for all provinces in Vietnam.\"\"\"\n",
    "#     data = []\n",
    "    \n",
    "#     try:\n",
    "#         vietnam = CountryInfo(\"Vietnam\")\n",
    "#         provinces = vietnam.provinces() if hasattr(vietnam, \"provinces\") else [\"Vietnam\"]\n",
    "\n",
    "#         for province in tqdm(provinces, desc=\"Processing provinces\"):\n",
    "#             province_query = f\"{province}, Vietnam\"\n",
    "#             prov_lat, prov_lon = get_lat_lon(province_query)\n",
    "\n",
    "#             data.append({\n",
    "#                 \"Country\": \"Vietnam\",\n",
    "#                 \"State/Province\": province,\n",
    "#                 \"Latitude\": prov_lat,\n",
    "#                 \"Longitude\": prov_lon\n",
    "#             })\n",
    "\n",
    "#             time.sleep(1)  # Prevents rate limiting\n",
    "\n",
    "#     except Exception as e:\n",
    "#         print(f\"Error processing Vietnam: {e}\")\n",
    "\n",
    "#     return data\n",
    "\n",
    "\n",
    "# print(\"Gathering Vietnam location data...\")\n",
    "# vietnam_data = gather_vietnam_data()\n",
    "\n",
    "# df = pd.DataFrame(vietnam_data)\n",
    "\n",
    "# df = df.dropna(subset=['Latitude', 'Longitude'], how='all')\n",
    "\n",
    "# num_parts = 5\n",
    "# split_dfs = np.array_split(df, num_parts)\n",
    "\n",
    "# for i, part_df in enumerate(split_dfs, start=1):\n",
    "#     output_file = f\"vietnam_locations_part_{i}.csv\"\n",
    "#     part_df.to_csv(output_file, index=False)\n",
    "#     print(f\"Saved {len(part_df)} entries to {output_file}\")\n",
    "\n",
    "# print(f\"Total entries: {len(df)} (split into {num_parts} parts)\")\n"
   ]
  },
  {
   "cell_type": "code",
   "execution_count": 3,
   "metadata": {},
   "outputs": [
    {
     "name": "stdout",
     "output_type": "stream",
     "text": [
      "\n",
      "Processing file: vietnam_locations_part_1.csv\n"
     ]
    },
    {
     "name": "stderr",
     "output_type": "stream",
     "text": [
      "Fetching Weather Data (Part 1):   0%|          | 0/13 [00:00<?, ?it/s]"
     ]
    },
    {
     "name": "stdout",
     "output_type": "stream",
     "text": [
      "Fetching data for An Giang...\n"
     ]
    },
    {
     "name": "stderr",
     "output_type": "stream",
     "text": [
      "Fetching Weather Data (Part 1):   8%|▊         | 1/13 [00:02<00:29,  2.44s/it]"
     ]
    },
    {
     "name": "stdout",
     "output_type": "stream",
     "text": [
      "Fetching data for Ba Ria-Vung Tau...\n"
     ]
    },
    {
     "name": "stderr",
     "output_type": "stream",
     "text": [
      "Fetching Weather Data (Part 1):  15%|█▌        | 2/13 [00:04<00:24,  2.18s/it]"
     ]
    },
    {
     "name": "stdout",
     "output_type": "stream",
     "text": [
      "Fetching data for Bac Giang...\n"
     ]
    },
    {
     "name": "stderr",
     "output_type": "stream",
     "text": [
      "Fetching Weather Data (Part 1):  23%|██▎       | 3/13 [00:06<00:23,  2.32s/it]"
     ]
    },
    {
     "name": "stdout",
     "output_type": "stream",
     "text": [
      "Fetching data for Bac Kan...\n"
     ]
    },
    {
     "name": "stderr",
     "output_type": "stream",
     "text": [
      "Fetching Weather Data (Part 1):  31%|███       | 4/13 [00:09<00:20,  2.32s/it]"
     ]
    },
    {
     "name": "stdout",
     "output_type": "stream",
     "text": [
      "Fetching data for Bac Lieu...\n"
     ]
    },
    {
     "name": "stderr",
     "output_type": "stream",
     "text": [
      "Fetching Weather Data (Part 1):  38%|███▊      | 5/13 [00:11<00:17,  2.22s/it]"
     ]
    },
    {
     "name": "stdout",
     "output_type": "stream",
     "text": [
      "Fetching data for Bac Ninh...\n"
     ]
    },
    {
     "name": "stderr",
     "output_type": "stream",
     "text": [
      "Fetching Weather Data (Part 1):  46%|████▌     | 6/13 [00:13<00:15,  2.17s/it]"
     ]
    },
    {
     "name": "stdout",
     "output_type": "stream",
     "text": [
      "Fetching data for Ben Tre...\n"
     ]
    },
    {
     "name": "stderr",
     "output_type": "stream",
     "text": [
      "Fetching Weather Data (Part 1):  54%|█████▍    | 7/13 [00:16<00:14,  2.39s/it]"
     ]
    },
    {
     "name": "stdout",
     "output_type": "stream",
     "text": [
      "Fetching data for Binh Dinh...\n"
     ]
    },
    {
     "name": "stderr",
     "output_type": "stream",
     "text": [
      "Fetching Weather Data (Part 1):  62%|██████▏   | 8/13 [00:19<00:13,  2.70s/it]"
     ]
    },
    {
     "name": "stdout",
     "output_type": "stream",
     "text": [
      "Fetching data for Binh Duong...\n"
     ]
    },
    {
     "name": "stderr",
     "output_type": "stream",
     "text": [
      "Fetching Weather Data (Part 1):  69%|██████▉   | 9/13 [00:22<00:11,  2.87s/it]"
     ]
    },
    {
     "name": "stdout",
     "output_type": "stream",
     "text": [
      "Fetching data for Binh Phuoc...\n"
     ]
    },
    {
     "name": "stderr",
     "output_type": "stream",
     "text": [
      "Fetching Weather Data (Part 1):  77%|███████▋  | 10/13 [00:24<00:07,  2.65s/it]"
     ]
    },
    {
     "name": "stdout",
     "output_type": "stream",
     "text": [
      "Fetching data for Binh Thuan...\n"
     ]
    },
    {
     "name": "stderr",
     "output_type": "stream",
     "text": [
      "Fetching Weather Data (Part 1):  85%|████████▍ | 11/13 [00:27<00:04,  2.49s/it]"
     ]
    },
    {
     "name": "stdout",
     "output_type": "stream",
     "text": [
      "Fetching data for Ca Mau...\n",
      "Rate limit reached for Ca Mau. Retrying in 10 seconds...\n"
     ]
    },
    {
     "name": "stderr",
     "output_type": "stream",
     "text": [
      "Fetching Weather Data (Part 1):  92%|█████████▏| 12/13 [00:40<00:05,  5.68s/it]"
     ]
    },
    {
     "name": "stdout",
     "output_type": "stream",
     "text": [
      "Fetching data for Can Tho...\n"
     ]
    },
    {
     "name": "stderr",
     "output_type": "stream",
     "text": [
      "Fetching Weather Data (Part 1): 100%|██████████| 13/13 [00:42<00:00,  3.24s/it]\n"
     ]
    },
    {
     "name": "stdout",
     "output_type": "stream",
     "text": [
      "Historical weather data saved to vietnam_historical_weather_part_1.csv\n",
      "\n",
      "Processing file: vietnam_locations_part_2.csv\n"
     ]
    },
    {
     "name": "stderr",
     "output_type": "stream",
     "text": [
      "Fetching Weather Data (Part 2):   0%|          | 0/12 [00:00<?, ?it/s]"
     ]
    },
    {
     "name": "stdout",
     "output_type": "stream",
     "text": [
      "Fetching data for Cao Bang...\n"
     ]
    },
    {
     "name": "stderr",
     "output_type": "stream",
     "text": [
      "Fetching Weather Data (Part 2):   8%|▊         | 1/12 [00:02<00:25,  2.29s/it]"
     ]
    },
    {
     "name": "stdout",
     "output_type": "stream",
     "text": [
      "Fetching data for Da Nang...\n"
     ]
    },
    {
     "name": "stderr",
     "output_type": "stream",
     "text": [
      "Fetching Weather Data (Part 2):  17%|█▋        | 2/12 [00:04<00:21,  2.16s/it]"
     ]
    },
    {
     "name": "stdout",
     "output_type": "stream",
     "text": [
      "Fetching data for Dac Lak...\n"
     ]
    },
    {
     "name": "stderr",
     "output_type": "stream",
     "text": [
      "Fetching Weather Data (Part 2):  25%|██▌       | 3/12 [00:06<00:21,  2.34s/it]"
     ]
    },
    {
     "name": "stdout",
     "output_type": "stream",
     "text": [
      "Fetching data for Dong Nai...\n"
     ]
    },
    {
     "name": "stderr",
     "output_type": "stream",
     "text": [
      "Fetching Weather Data (Part 2):  33%|███▎      | 4/12 [00:08<00:17,  2.23s/it]"
     ]
    },
    {
     "name": "stdout",
     "output_type": "stream",
     "text": [
      "Fetching data for Dong Thap...\n"
     ]
    },
    {
     "name": "stderr",
     "output_type": "stream",
     "text": [
      "Fetching Weather Data (Part 2):  42%|████▏     | 5/12 [00:11<00:15,  2.17s/it]"
     ]
    },
    {
     "name": "stdout",
     "output_type": "stream",
     "text": [
      "Fetching data for Gia Lai...\n"
     ]
    },
    {
     "name": "stderr",
     "output_type": "stream",
     "text": [
      "Fetching Weather Data (Part 2):  50%|█████     | 6/12 [00:13<00:12,  2.15s/it]"
     ]
    },
    {
     "name": "stdout",
     "output_type": "stream",
     "text": [
      "Fetching data for Ha Giang...\n"
     ]
    },
    {
     "name": "stderr",
     "output_type": "stream",
     "text": [
      "Fetching Weather Data (Part 2):  58%|█████▊    | 7/12 [00:15<00:10,  2.09s/it]"
     ]
    },
    {
     "name": "stdout",
     "output_type": "stream",
     "text": [
      "Fetching data for Ha Nam...\n"
     ]
    },
    {
     "name": "stderr",
     "output_type": "stream",
     "text": [
      "Fetching Weather Data (Part 2):  67%|██████▋   | 8/12 [00:17<00:08,  2.17s/it]"
     ]
    },
    {
     "name": "stdout",
     "output_type": "stream",
     "text": [
      "Fetching data for Ha Noi...\n"
     ]
    },
    {
     "name": "stderr",
     "output_type": "stream",
     "text": [
      "Fetching Weather Data (Part 2):  75%|███████▌  | 9/12 [00:19<00:06,  2.14s/it]"
     ]
    },
    {
     "name": "stdout",
     "output_type": "stream",
     "text": [
      "Fetching data for Ha Tay...\n",
      "Rate limit reached for Ha Tay. Retrying in 10 seconds...\n",
      "Rate limit reached for Ha Tay. Retrying in 20 seconds...\n",
      "Rate limit reached for Ha Tay. Retrying in 40 seconds...\n"
     ]
    },
    {
     "name": "stderr",
     "output_type": "stream",
     "text": [
      "Fetching Weather Data (Part 2):  83%|████████▎ | 10/12 [01:34<00:49, 24.52s/it]"
     ]
    },
    {
     "name": "stdout",
     "output_type": "stream",
     "text": [
      "Fetching data for Ha Tinh...\n"
     ]
    },
    {
     "name": "stderr",
     "output_type": "stream",
     "text": [
      "Fetching Weather Data (Part 2):  92%|█████████▏| 11/12 [01:37<00:17, 17.94s/it]"
     ]
    },
    {
     "name": "stdout",
     "output_type": "stream",
     "text": [
      "Fetching data for Hai Duong...\n"
     ]
    },
    {
     "name": "stderr",
     "output_type": "stream",
     "text": [
      "Fetching Weather Data (Part 2): 100%|██████████| 12/12 [01:39<00:00,  8.26s/it]\n"
     ]
    },
    {
     "name": "stdout",
     "output_type": "stream",
     "text": [
      "Historical weather data saved to vietnam_historical_weather_part_2.csv\n",
      "\n",
      "Processing file: vietnam_locations_part_3.csv\n"
     ]
    },
    {
     "name": "stderr",
     "output_type": "stream",
     "text": [
      "Fetching Weather Data (Part 3):   0%|          | 0/12 [00:00<?, ?it/s]"
     ]
    },
    {
     "name": "stdout",
     "output_type": "stream",
     "text": [
      "Fetching data for Hai Phong...\n"
     ]
    },
    {
     "name": "stderr",
     "output_type": "stream",
     "text": [
      "Fetching Weather Data (Part 3):   8%|▊         | 1/12 [00:01<00:21,  1.99s/it]"
     ]
    },
    {
     "name": "stdout",
     "output_type": "stream",
     "text": [
      "Fetching data for Ho Chi Minh...\n"
     ]
    },
    {
     "name": "stderr",
     "output_type": "stream",
     "text": [
      "Fetching Weather Data (Part 3):  17%|█▋        | 2/12 [00:04<00:22,  2.22s/it]"
     ]
    },
    {
     "name": "stdout",
     "output_type": "stream",
     "text": [
      "Fetching data for Hoa Binh...\n"
     ]
    },
    {
     "name": "stderr",
     "output_type": "stream",
     "text": [
      "Fetching Weather Data (Part 3):  25%|██▌       | 3/12 [00:06<00:19,  2.16s/it]"
     ]
    },
    {
     "name": "stdout",
     "output_type": "stream",
     "text": [
      "Fetching data for Hung Yen...\n"
     ]
    },
    {
     "name": "stderr",
     "output_type": "stream",
     "text": [
      "Fetching Weather Data (Part 3):  33%|███▎      | 4/12 [00:08<00:16,  2.11s/it]"
     ]
    },
    {
     "name": "stdout",
     "output_type": "stream",
     "text": [
      "Fetching data for Khanh Hoa...\n"
     ]
    },
    {
     "name": "stderr",
     "output_type": "stream",
     "text": [
      "Fetching Weather Data (Part 3):  42%|████▏     | 5/12 [00:10<00:14,  2.12s/it]"
     ]
    },
    {
     "name": "stdout",
     "output_type": "stream",
     "text": [
      "Fetching data for Kien Giang...\n"
     ]
    },
    {
     "name": "stderr",
     "output_type": "stream",
     "text": [
      "Fetching Weather Data (Part 3):  50%|█████     | 6/12 [00:12<00:12,  2.11s/it]"
     ]
    },
    {
     "name": "stdout",
     "output_type": "stream",
     "text": [
      "Fetching data for Kon Tum...\n"
     ]
    },
    {
     "name": "stderr",
     "output_type": "stream",
     "text": [
      "Fetching Weather Data (Part 3):  58%|█████▊    | 7/12 [00:14<00:10,  2.14s/it]"
     ]
    },
    {
     "name": "stdout",
     "output_type": "stream",
     "text": [
      "Fetching data for Lai Chau...\n"
     ]
    },
    {
     "name": "stderr",
     "output_type": "stream",
     "text": [
      "Fetching Weather Data (Part 3):  67%|██████▋   | 8/12 [00:18<00:10,  2.70s/it]"
     ]
    },
    {
     "name": "stdout",
     "output_type": "stream",
     "text": [
      "Fetching data for Lam Dong...\n"
     ]
    },
    {
     "name": "stderr",
     "output_type": "stream",
     "text": [
      "Fetching Weather Data (Part 3):  75%|███████▌  | 9/12 [00:20<00:07,  2.51s/it]"
     ]
    },
    {
     "name": "stdout",
     "output_type": "stream",
     "text": [
      "Fetching data for Lang Son...\n"
     ]
    },
    {
     "name": "stderr",
     "output_type": "stream",
     "text": [
      "Fetching Weather Data (Part 3):  83%|████████▎ | 10/12 [00:23<00:04,  2.48s/it]"
     ]
    },
    {
     "name": "stdout",
     "output_type": "stream",
     "text": [
      "Fetching data for Lao Cai...\n"
     ]
    },
    {
     "name": "stderr",
     "output_type": "stream",
     "text": [
      "Fetching Weather Data (Part 3):  92%|█████████▏| 11/12 [00:25<00:02,  2.33s/it]"
     ]
    },
    {
     "name": "stdout",
     "output_type": "stream",
     "text": [
      "Fetching data for Long An...\n"
     ]
    },
    {
     "name": "stderr",
     "output_type": "stream",
     "text": [
      "Fetching Weather Data (Part 3): 100%|██████████| 12/12 [00:27<00:00,  2.28s/it]\n"
     ]
    },
    {
     "name": "stdout",
     "output_type": "stream",
     "text": [
      "Historical weather data saved to vietnam_historical_weather_part_3.csv\n",
      "\n",
      "Processing file: vietnam_locations_part_4.csv\n"
     ]
    },
    {
     "name": "stderr",
     "output_type": "stream",
     "text": [
      "Fetching Weather Data (Part 4):   0%|          | 0/12 [00:00<?, ?it/s]"
     ]
    },
    {
     "name": "stdout",
     "output_type": "stream",
     "text": [
      "Fetching data for Nam Dinh...\n"
     ]
    },
    {
     "name": "stderr",
     "output_type": "stream",
     "text": [
      "Fetching Weather Data (Part 4):   8%|▊         | 1/12 [00:02<00:23,  2.13s/it]"
     ]
    },
    {
     "name": "stdout",
     "output_type": "stream",
     "text": [
      "Fetching data for Nghe An...\n"
     ]
    },
    {
     "name": "stderr",
     "output_type": "stream",
     "text": [
      "Fetching Weather Data (Part 4):  17%|█▋        | 2/12 [00:04<00:20,  2.06s/it]"
     ]
    },
    {
     "name": "stdout",
     "output_type": "stream",
     "text": [
      "Fetching data for Ninh Binh...\n"
     ]
    },
    {
     "name": "stderr",
     "output_type": "stream",
     "text": [
      "Fetching Weather Data (Part 4):  25%|██▌       | 3/12 [00:06<00:18,  2.04s/it]"
     ]
    },
    {
     "name": "stdout",
     "output_type": "stream",
     "text": [
      "Fetching data for Ninh Thuan...\n"
     ]
    },
    {
     "name": "stderr",
     "output_type": "stream",
     "text": [
      "Fetching Weather Data (Part 4):  33%|███▎      | 4/12 [00:08<00:16,  2.03s/it]"
     ]
    },
    {
     "name": "stdout",
     "output_type": "stream",
     "text": [
      "Fetching data for Phu Tho...\n"
     ]
    },
    {
     "name": "stderr",
     "output_type": "stream",
     "text": [
      "Fetching Weather Data (Part 4):  42%|████▏     | 5/12 [00:10<00:14,  2.11s/it]"
     ]
    },
    {
     "name": "stdout",
     "output_type": "stream",
     "text": [
      "Fetching data for Phu Yen...\n"
     ]
    },
    {
     "name": "stderr",
     "output_type": "stream",
     "text": [
      "Fetching Weather Data (Part 4):  50%|█████     | 6/12 [00:12<00:12,  2.12s/it]"
     ]
    },
    {
     "name": "stdout",
     "output_type": "stream",
     "text": [
      "Fetching data for Quang Binh...\n"
     ]
    },
    {
     "name": "stderr",
     "output_type": "stream",
     "text": [
      "Fetching Weather Data (Part 4):  58%|█████▊    | 7/12 [00:14<00:10,  2.10s/it]"
     ]
    },
    {
     "name": "stdout",
     "output_type": "stream",
     "text": [
      "Fetching data for Quang Nam...\n",
      "Rate limit reached for Quang Nam. Retrying in 10 seconds...\n",
      "Rate limit reached for Quang Nam. Retrying in 20 seconds...\n",
      "Rate limit reached for Quang Nam. Retrying in 40 seconds...\n"
     ]
    },
    {
     "name": "stderr",
     "output_type": "stream",
     "text": [
      "Fetching Weather Data (Part 4):  67%|██████▋   | 8/12 [01:29<01:40, 25.17s/it]"
     ]
    },
    {
     "name": "stdout",
     "output_type": "stream",
     "text": [
      "Fetching data for Quang Ngai...\n"
     ]
    },
    {
     "name": "stderr",
     "output_type": "stream",
     "text": [
      "Fetching Weather Data (Part 4):  75%|███████▌  | 9/12 [01:31<00:53, 17.98s/it]"
     ]
    },
    {
     "name": "stdout",
     "output_type": "stream",
     "text": [
      "Fetching data for Quang Ninh...\n"
     ]
    },
    {
     "name": "stderr",
     "output_type": "stream",
     "text": [
      "Fetching Weather Data (Part 4):  83%|████████▎ | 10/12 [01:33<00:26, 13.18s/it]"
     ]
    },
    {
     "name": "stdout",
     "output_type": "stream",
     "text": [
      "Fetching data for Quang Tri...\n"
     ]
    },
    {
     "name": "stderr",
     "output_type": "stream",
     "text": [
      "Fetching Weather Data (Part 4):  92%|█████████▏| 11/12 [01:35<00:09,  9.80s/it]"
     ]
    },
    {
     "name": "stdout",
     "output_type": "stream",
     "text": [
      "Fetching data for Soc Trang...\n"
     ]
    },
    {
     "name": "stderr",
     "output_type": "stream",
     "text": [
      "Fetching Weather Data (Part 4): 100%|██████████| 12/12 [01:38<00:00,  8.18s/it]\n"
     ]
    },
    {
     "name": "stdout",
     "output_type": "stream",
     "text": [
      "Historical weather data saved to vietnam_historical_weather_part_4.csv\n",
      "\n",
      "Processing file: vietnam_locations_part_5.csv\n"
     ]
    },
    {
     "name": "stderr",
     "output_type": "stream",
     "text": [
      "Fetching Weather Data (Part 5):   0%|          | 0/12 [00:00<?, ?it/s]"
     ]
    },
    {
     "name": "stdout",
     "output_type": "stream",
     "text": [
      "Fetching data for Son La...\n"
     ]
    },
    {
     "name": "stderr",
     "output_type": "stream",
     "text": [
      "Fetching Weather Data (Part 5):   8%|▊         | 1/12 [00:02<00:23,  2.12s/it]"
     ]
    },
    {
     "name": "stdout",
     "output_type": "stream",
     "text": [
      "Fetching data for Tay Ninh...\n"
     ]
    },
    {
     "name": "stderr",
     "output_type": "stream",
     "text": [
      "Fetching Weather Data (Part 5):  17%|█▋        | 2/12 [00:04<00:20,  2.09s/it]"
     ]
    },
    {
     "name": "stdout",
     "output_type": "stream",
     "text": [
      "Fetching data for Thai Binh...\n"
     ]
    },
    {
     "name": "stderr",
     "output_type": "stream",
     "text": [
      "Fetching Weather Data (Part 5):  25%|██▌       | 3/12 [00:06<00:18,  2.08s/it]"
     ]
    },
    {
     "name": "stdout",
     "output_type": "stream",
     "text": [
      "Fetching data for Thai Nguyen...\n"
     ]
    },
    {
     "name": "stderr",
     "output_type": "stream",
     "text": [
      "Fetching Weather Data (Part 5):  33%|███▎      | 4/12 [00:08<00:16,  2.09s/it]"
     ]
    },
    {
     "name": "stdout",
     "output_type": "stream",
     "text": [
      "Fetching data for Thanh Hoa...\n"
     ]
    },
    {
     "name": "stderr",
     "output_type": "stream",
     "text": [
      "Fetching Weather Data (Part 5):  42%|████▏     | 5/12 [00:10<00:15,  2.24s/it]"
     ]
    },
    {
     "name": "stdout",
     "output_type": "stream",
     "text": [
      "Fetching data for Thua Thien-Hue...\n"
     ]
    },
    {
     "name": "stderr",
     "output_type": "stream",
     "text": [
      "Fetching Weather Data (Part 5):  50%|█████     | 6/12 [00:13<00:13,  2.23s/it]"
     ]
    },
    {
     "name": "stdout",
     "output_type": "stream",
     "text": [
      "Fetching data for Tien Giang...\n"
     ]
    },
    {
     "name": "stderr",
     "output_type": "stream",
     "text": [
      "Fetching Weather Data (Part 5):  58%|█████▊    | 7/12 [00:15<00:11,  2.21s/it]"
     ]
    },
    {
     "name": "stdout",
     "output_type": "stream",
     "text": [
      "Fetching data for Tra Vinh...\n"
     ]
    },
    {
     "name": "stderr",
     "output_type": "stream",
     "text": [
      "Fetching Weather Data (Part 5):  67%|██████▋   | 8/12 [00:17<00:08,  2.19s/it]"
     ]
    },
    {
     "name": "stdout",
     "output_type": "stream",
     "text": [
      "Fetching data for Tuyen Quang...\n"
     ]
    },
    {
     "name": "stderr",
     "output_type": "stream",
     "text": [
      "Fetching Weather Data (Part 5):  75%|███████▌  | 9/12 [00:19<00:06,  2.24s/it]"
     ]
    },
    {
     "name": "stdout",
     "output_type": "stream",
     "text": [
      "Fetching data for Vinh Long...\n"
     ]
    },
    {
     "name": "stderr",
     "output_type": "stream",
     "text": [
      "Fetching Weather Data (Part 5):  83%|████████▎ | 10/12 [00:21<00:04,  2.22s/it]"
     ]
    },
    {
     "name": "stdout",
     "output_type": "stream",
     "text": [
      "Fetching data for Vinh Phuc...\n"
     ]
    },
    {
     "name": "stderr",
     "output_type": "stream",
     "text": [
      "Fetching Weather Data (Part 5):  92%|█████████▏| 11/12 [00:24<00:02,  2.19s/it]"
     ]
    },
    {
     "name": "stdout",
     "output_type": "stream",
     "text": [
      "Fetching data for Yen Bai...\n"
     ]
    },
    {
     "name": "stderr",
     "output_type": "stream",
     "text": [
      "Fetching Weather Data (Part 5): 100%|██████████| 12/12 [00:27<00:00,  2.25s/it]"
     ]
    },
    {
     "name": "stdout",
     "output_type": "stream",
     "text": [
      "Historical weather data saved to vietnam_historical_weather_part_5.csv\n"
     ]
    },
    {
     "name": "stderr",
     "output_type": "stream",
     "text": [
      "\n"
     ]
    }
   ],
   "source": [
    "BASE_URL = \"https://archive-api.open-meteo.com/v1/archive\"\n",
    "\n",
    "start_year = 2021\n",
    "end_year = 2021\n",
    "\n",
    "location_files = [\n",
    "    \"vietnam_locations_part_1.csv\",\n",
    "    \"vietnam_locations_part_2.csv\",\n",
    "    \"vietnam_locations_part_3.csv\",\n",
    "    \"vietnam_locations_part_4.csv\",\n",
    "    \"vietnam_locations_part_5.csv\"\n",
    "]\n",
    "\n",
    "def get_historical_weather(province, lat, lon):\n",
    "    \"\"\"Fetch historical weather data for a given province with retry mechanism.\"\"\"\n",
    "    start_date = f\"{start_year}-01-01\"\n",
    "    end_date = f\"{end_year}-12-31\"\n",
    "\n",
    "    params = {\n",
    "        \"latitude\": lat,\n",
    "        \"longitude\": lon,\n",
    "        \"start_date\": start_date,\n",
    "        \"end_date\": end_date,\n",
    "        \"daily\": [\n",
    "            \"weathercode\", \"temperature_2m_max\", \"temperature_2m_min\",\n",
    "            \"apparent_temperature_max\", \"apparent_temperature_min\",\n",
    "            \"sunrise\", \"sunset\", \"daylight_duration\", \"sunshine_duration\",\n",
    "            \"uv_index_max\", \"uv_index_clear_sky_max\", \"precipitation_sum\",\n",
    "            \"rain_sum\", \"showers_sum\", \"snowfall_sum\", \"precipitation_hours\",\n",
    "            \"precipitation_probability_max\", \"windspeed_10m_max\",\n",
    "            \"windgusts_10m_max\", \"winddirection_10m_dominant\",\n",
    "            \"shortwave_radiation_sum\", \"et0_fao_evapotranspiration\"\n",
    "        ],\n",
    "        \"timezone\": \"auto\"\n",
    "    }\n",
    "\n",
    "    retries = 5 \n",
    "    wait_time = 10  \n",
    "\n",
    "    for _ in range(retries):\n",
    "        response = requests.get(BASE_URL, params=params)\n",
    "\n",
    "        if response.status_code == 200:\n",
    "            return response.json()\n",
    "        elif response.status_code == 429:\n",
    "            print(f\"Rate limit reached for {province}. Retrying in {wait_time} seconds...\")\n",
    "            time.sleep(wait_time)\n",
    "            wait_time *= 2  \n",
    "        else:\n",
    "            print(f\"Error fetching data for {province}: {response.status_code}\")\n",
    "            return None\n",
    "\n",
    "    print(f\"Skipping {province} after {retries} failed attempts.\")\n",
    "    return None\n",
    "\n",
    "for file_num, location_file in enumerate(location_files, start=1):\n",
    "    print(f\"\\nProcessing file: {location_file}\")\n",
    "    province_data = pd.read_csv(location_file)\n",
    "    \n",
    "    weather_history = []\n",
    "    \n",
    "    for _, row in tqdm(province_data.iterrows(), total=len(province_data), desc=f\"Fetching Weather Data (Part {file_num})\"):\n",
    "        province = row[\"State/Province\"]\n",
    "        lat, lon = row[\"Latitude\"], row[\"Longitude\"]\n",
    "\n",
    "        print(f\"Fetching data for {province}...\")\n",
    "        data = get_historical_weather(province, lat, lon)\n",
    "\n",
    "        if data and \"daily\" in data:\n",
    "            daily_data = data[\"daily\"]\n",
    "            dates = daily_data[\"time\"]\n",
    "\n",
    "            for i in range(len(dates)): \n",
    "                weather_history.append([\n",
    "                    province,\n",
    "                    dates[i],\n",
    "                    daily_data[\"weathercode\"][i],\n",
    "                    daily_data[\"temperature_2m_max\"][i],\n",
    "                    daily_data[\"temperature_2m_min\"][i],\n",
    "                    daily_data[\"apparent_temperature_max\"][i],\n",
    "                    daily_data[\"apparent_temperature_min\"][i],\n",
    "                    daily_data[\"sunrise\"][i],\n",
    "                    daily_data[\"sunset\"][i],\n",
    "                    daily_data[\"daylight_duration\"][i],\n",
    "                    daily_data[\"sunshine_duration\"][i],\n",
    "                    daily_data[\"uv_index_max\"][i],\n",
    "                    daily_data[\"uv_index_clear_sky_max\"][i],\n",
    "                    daily_data[\"precipitation_sum\"][i],\n",
    "                    daily_data[\"rain_sum\"][i],\n",
    "                    daily_data[\"showers_sum\"][i],\n",
    "                    daily_data[\"snowfall_sum\"][i],\n",
    "                    daily_data[\"precipitation_hours\"][i],\n",
    "                    daily_data[\"precipitation_probability_max\"][i],\n",
    "                    daily_data[\"windspeed_10m_max\"][i],\n",
    "                    daily_data[\"windgusts_10m_max\"][i],\n",
    "                    daily_data[\"winddirection_10m_dominant\"][i],\n",
    "                    daily_data[\"shortwave_radiation_sum\"][i],\n",
    "                    daily_data[\"et0_fao_evapotranspiration\"][i]\n",
    "                ])\n",
    "\n",
    "        time.sleep(1) \n",
    "\n",
    "    csv_filename = f\"vietnam_historical_weather_part_{file_num}.csv\"\n",
    "    with open(csv_filename, \"w\", newline=\"\") as csvfile:\n",
    "        writer = csv.writer(csvfile)\n",
    "        writer.writerow([\n",
    "            \"Province\", \"Date\", \"Weather Code\", \"Max Temp (°C)\", \"Min Temp (°C)\", \n",
    "            \"Max Apparent Temp (°C)\", \"Min Apparent Temp (°C)\", \"Sunrise\", \"Sunset\",\n",
    "            \"Daylight Duration (s)\", \"Sunshine Duration (s)\", \"UV Index Max\", \n",
    "            \"UV Index Clear Sky Max\", \"Precipitation (mm)\", \"Rain (mm)\", \n",
    "            \"Showers (mm)\", \"Snowfall (mm)\", \"Precipitation Hours\", \n",
    "            \"Precipitation Probability Max (%)\", \"Max Wind Speed (m/s)\", \n",
    "            \"Max Wind Gusts (m/s)\", \"Dominant Wind Direction (°)\", \n",
    "            \"Shortwave Radiation Sum (MJ/m²)\", \"Reference Evapotranspiration (mm)\"\n",
    "        ])\n",
    "        writer.writerows(weather_history)\n",
    "\n",
    "    print(f\"Historical weather data saved to {csv_filename}\")"
   ]
  },
  {
   "cell_type": "code",
   "execution_count": 4,
   "metadata": {},
   "outputs": [],
   "source": [
    "csv_files = glob.glob(\"vietnam_historical_weather_part_*.csv\")\n",
    "\n",
    "merged_df = pd.concat([pd.read_csv(file, encoding='ISO-8859-1') for file in csv_files], ignore_index=True)\n",
    "\n",
    "merged_filename = \"vn_weather_2021.csv\"\n",
    "merged_df.to_csv(merged_filename, index=False)"
   ]
  },
  {
   "cell_type": "code",
   "execution_count": null,
   "metadata": {},
   "outputs": [],
   "source": []
  }
 ],
 "metadata": {
  "kernelspec": {
   "display_name": "Python 3",
   "language": "python",
   "name": "python3"
  },
  "language_info": {
   "codemirror_mode": {
    "name": "ipython",
    "version": 3
   },
   "file_extension": ".py",
   "mimetype": "text/x-python",
   "name": "python",
   "nbconvert_exporter": "python",
   "pygments_lexer": "ipython3",
   "version": "3.13.0"
  }
 },
 "nbformat": 4,
 "nbformat_minor": 2
}
